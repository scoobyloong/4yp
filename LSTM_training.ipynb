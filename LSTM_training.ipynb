{
 "cells": [
  {
   "cell_type": "code",
   "execution_count": 2,
   "metadata": {},
   "outputs": [],
   "source": [
    "##import blabla\n",
    "\n",
    "import keras \n",
    "from keras.applications import VGG16\n",
    "from keras.callbacks import ModelCheckpoint\n",
    "from keras.models import Model, Sequential\n",
    "from keras.layers import Dense, Dropout, Input, Flatten, Reshape, ZeroPadding2D, Conv2D, MaxPooling2D,ConvLSTM2D,BatchNormalization, Bidirectional\n",
    "from keras.layers.wrappers import TimeDistributed\n",
    "from keras.utils.data_utils import get_file\n",
    "from keras.optimizers import Adam\n"
   ]
  },
  {
   "cell_type": "code",
   "execution_count": 3,
   "metadata": {},
   "outputs": [],
   "source": [
    "def VGG16_LSTM():\n",
    "    WEIGHTS_PATH = 'https://github.com/fchollet/deep-learning-models/releases/download/v0.1/vgg16_weights_tf_dim_ordering_tf_kernels.h5'\n",
    "    patch_rows = 224\n",
    "    patch_cols = 224\n",
    "\n",
    "    inputs = Input((5, patch_rows, patch_cols, 3))\n",
    "\n",
    "    conv1 = TimeDistributed(Conv2D(64, (3, 3), activation='relu', padding='same'),name='block1_conv1')(inputs)\n",
    "#     conv1 = TimeDistributed(BatchNormalization())(conv1)\n",
    "    conv1 = TimeDistributed(Conv2D(64, (3, 3), activation='relu', padding='same'),name='block1_conv2')(conv1)\n",
    "#     conv1 = TimeDistributed(BatchNormalization())(conv1)\n",
    "    pool1 = TimeDistributed(MaxPooling2D(pool_size=(2, 2)),name='block1_pool')(conv1)\n",
    "\n",
    "    conv2 = TimeDistributed(Conv2D(128, (3, 3), activation='relu', padding='same'),name='block2_conv1')(pool1)\n",
    "#     conv2 = TimeDistributed(BatchNormalization())(conv2)\n",
    "    conv2 = TimeDistributed(Conv2D(128, (3, 3), activation='relu', padding='same'),name='block2_conv2')(conv2)\n",
    "#     conv2 = TimeDistributed(BatchNormalization())(conv2)\n",
    "    pool2 = TimeDistributed(MaxPooling2D(pool_size=(2, 2)),name='block2_pool')(conv2)\n",
    "\n",
    "    conv3 = TimeDistributed(Conv2D(256, (3, 3), activation='relu', padding='same'),name='block3_conv1')(pool2)\n",
    "#     conv3 = TimeDistributed(BatchNormalization())(conv3)\n",
    "    conv3 = TimeDistributed(Conv2D(256, (3, 3), activation='relu', padding='same'),name='block3_conv2')(conv3)\n",
    "#     conv3 = TimeDistributed(BatchNormalization())(conv3)\n",
    "    pool3 = TimeDistributed(MaxPooling2D(pool_size=(2, 2),name='block3_pool'))(conv3)\n",
    "\n",
    "    conv4 = TimeDistributed(Conv2D(512, (3, 3), activation='relu', padding='same'),name='block4_conv1')(pool3)\n",
    "#     conv4 = TimeDistributed(BatchNormalization())(conv4)\n",
    "    conv4 = TimeDistributed(Conv2D(512, (3, 3), activation='relu', padding='same'),name='block4_conv2')(conv4)\n",
    "#     conv4 = TimeDistributed(BatchNormalization())(conv4)\n",
    "    pool4 = TimeDistributed(MaxPooling2D(pool_size=(2, 2),name='block4_pool'))(conv4)\n",
    "\n",
    "\n",
    "    conv5 = TimeDistributed(Conv2D(512, (3, 3), activation='relu', padding='same'),name='block5_conv1')(pool4)\n",
    "#     conv5 = TimeDistributed(BatchNormalization())(conv5)\n",
    "    conv5 = TimeDistributed(Conv2D(512, (3, 3), activation='relu', padding='same'),name='block5_conv2')(conv5)\n",
    "#     conv5 = TimeDistributed(BatchNormalization())(conv5)\n",
    "    pool5 = TimeDistributed(MaxPooling2D(pool_size=(2, 2),name='block5_pool'))(conv5)\n",
    "\n",
    "    myLSTM = ConvLSTM2D(512, (3, 3), activation='relu', padding='same', return_sequences=True,name='ConvLSTMlayer1')(pool5)\n",
    "    myLSTM = ConvLSTM2D(512, (3, 3), activation='relu', padding='same', return_sequences=True,name='ConvLSTMlayer2')(myLSTM)\n",
    "    myLSTM = ConvLSTM2D(512, (3, 3), activation='relu', padding='same', return_sequences=True,name='ConvLSTMlayer3')(myLSTM )\n",
    "    \n",
    "    \n",
    "    flatten = TimeDistributed(Flatten())(myLSTM)\n",
    "#     fc1 = Dense(4096, name ='fc1')(flatten)\n",
    "#     fc2 = Dense(4096, name = 'fc2')(fc1)\n",
    "    reg_out = TimeDistributed(Dense(6, name='predictions'))(flatten)\n",
    "    \n",
    "    VGG16_path_NOTOP = 'https://github.com/fchollet/deep-learning-models/releases/download/v0.1/vgg16_weights_th_dim_ordering_th_kernels_notop.h5'\n",
    "    model = Model(inputs=[inputs], outputs=[reg_out])\n",
    "    weights_path = get_file('vgg16_weights_tf_dim_ordering_tf_kernels_notop.h5',WEIGHTS_PATH, cache_subdir='models')\n",
    "    model.load_weights(weights_path,by_name=True,)"
   ]
  },
  {
   "cell_type": "code",
   "execution_count": 4,
   "metadata": {},
   "outputs": [
    {
     "ename": "AttributeError",
     "evalue": "'NoneType' object has no attribute 'compile'",
     "output_type": "error",
     "traceback": [
      "\u001b[0;31m---------------------------------------------------------------------------\u001b[0m",
      "\u001b[0;31mAttributeError\u001b[0m                            Traceback (most recent call last)",
      "\u001b[0;32m<ipython-input-4-84d02c73b13a>\u001b[0m in \u001b[0;36m<module>\u001b[0;34m()\u001b[0m\n\u001b[1;32m      1\u001b[0m \u001b[0mmodel\u001b[0m \u001b[0;34m=\u001b[0m \u001b[0mVGG16_LSTM\u001b[0m\u001b[0;34m(\u001b[0m\u001b[0;34m)\u001b[0m\u001b[0;34m\u001b[0m\u001b[0m\n\u001b[0;32m----> 2\u001b[0;31m \u001b[0mmodel\u001b[0m\u001b[0;34m.\u001b[0m\u001b[0mcompile\u001b[0m\u001b[0;34m(\u001b[0m\u001b[0mloss\u001b[0m\u001b[0;34m=\u001b[0m \u001b[0;34m\"mse\"\u001b[0m\u001b[0;34m,\u001b[0m \u001b[0moptimizer\u001b[0m\u001b[0;34m=\u001b[0m\u001b[0mAdam\u001b[0m\u001b[0;34m(\u001b[0m\u001b[0mlr\u001b[0m\u001b[0;34m=\u001b[0m\u001b[0;36m0.001\u001b[0m\u001b[0;34m)\u001b[0m\u001b[0;34m)\u001b[0m\u001b[0;34m\u001b[0m\u001b[0m\n\u001b[0m\u001b[1;32m      3\u001b[0m \u001b[0;34m\u001b[0m\u001b[0m\n\u001b[1;32m      4\u001b[0m \u001b[0;31m# checkpoints\u001b[0m\u001b[0;34m\u001b[0m\u001b[0;34m\u001b[0m\u001b[0m\n\u001b[1;32m      5\u001b[0m \u001b[0;31m#model.load_weights('/model/weights-best)\u001b[0m\u001b[0;34m\u001b[0m\u001b[0;34m\u001b[0m\u001b[0m\n",
      "\u001b[0;31mAttributeError\u001b[0m: 'NoneType' object has no attribute 'compile'"
     ]
    }
   ],
   "source": [
    "model = VGG16_LSTM()\n",
    "# model.compile(loss= \"mse\", optimizer=Adam(lr=0.001))\n",
    "\n",
    "# checkpoints\n",
    "#model.load_weights('/model/weights-best)\n",
    "\n",
    "# filepath= \"/output/weights-best\"\n",
    "# checkpoint = ModelCheckpoint(filepath, monitor='val_loss', verbose=1, save_best_only=True, mode='min')\n",
    "# callbacks_list = [checkpoint]\n",
    "model.summary()\n",
    "\n",
    "# #training \n",
    "# history = model.fit(xtrain, ytrain, callbacks=callbacks_list, batch_size=1, epochs=5, verbose=1, validation_data=(xvalid,yvalid))"
   ]
  },
  {
   "cell_type": "code",
   "execution_count": null,
   "metadata": {},
   "outputs": [],
   "source": []
  }
 ],
 "metadata": {
  "kernelspec": {
   "display_name": "Python 3",
   "language": "python",
   "name": "python3"
  },
  "language_info": {
   "codemirror_mode": {
    "name": "ipython",
    "version": 3
   },
   "file_extension": ".py",
   "mimetype": "text/x-python",
   "name": "python",
   "nbconvert_exporter": "python",
   "pygments_lexer": "ipython3",
   "version": "3.6.3"
  }
 },
 "nbformat": 4,
 "nbformat_minor": 2
}
